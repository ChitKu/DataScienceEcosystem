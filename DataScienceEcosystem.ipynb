{
 "cells": [
  {
   "cell_type": "markdown",
   "id": "d0149e88",
   "metadata": {},
   "source": [
    "# Data Science Tools and Ecosystem"
   ]
  },
  {
   "cell_type": "markdown",
   "id": "35db0b72",
   "metadata": {},
   "source": [
    "## In this notebook, Data Science Tools and Ecosystem are summarized."
   ]
  },
  {
   "cell_type": "markdown",
   "id": "85796b2b",
   "metadata": {},
   "source": [
    "### Some of the popular languages that Data Scientists use are:\n",
    "- 1 Python \n",
    "- 2 R \n",
    "- 3 SQL"
   ]
  },
  {
   "cell_type": "markdown",
   "id": "b010cbfe",
   "metadata": {},
   "source": [
    "#### Some of the commonly used libraries used by Data Scientists include: \n",
    "- 1 Pandas \n",
    "- 2 Matploblib \n",
    "- 3 Numpy 4 SciPy"
   ]
  },
  {
   "cell_type": "markdown",
   "id": "08719480",
   "metadata": {},
   "source": [
    " \n",
    "| Data Science tools |\n",
    "|---------------------|\n",
    "| Jupyter Noebook |\n",
    "| Python |\n",
    "| MATLAB |"
   ]
  },
  {
   "cell_type": "markdown",
   "id": "a2de9435",
   "metadata": {},
   "source": [
    "### Below are a few examples of evaluating arithmetic expressions in Python"
   ]
  },
  {
   "cell_type": "code",
   "execution_count": 1,
   "id": "2e76b028",
   "metadata": {},
   "outputs": [
    {
     "data": {
      "text/plain": [
       "17"
      ]
     },
     "execution_count": 1,
     "metadata": {},
     "output_type": "execute_result"
    }
   ],
   "source": [
    "3*4+5\n",
    "# This a simple arithmetic expression to mutiply then add integers"
   ]
  },
  {
   "cell_type": "code",
   "execution_count": 20,
   "id": "ea3e63fa",
   "metadata": {},
   "outputs": [
    {
     "name": "stdout",
     "output_type": "stream",
     "text": [
      "minutes>>200\n",
      "Hours= 3 Minutes= 20\n"
     ]
    }
   ],
   "source": [
    "import math\n",
    "minute=int(input(\"minutes>>\"))\n",
    "hours = math.floor((minute)/60)\n",
    "print(\"Hours= {0:.0f}\".format(hours),\"Minutes= {0:.0f}\".format(minute - hours*60))\n",
    "# This will convert 200 minutes to hours by diving by 60"
   ]
  },
  {
   "cell_type": "markdown",
   "id": "0480b8bf",
   "metadata": {},
   "source": [
    "# Objectives:\n",
    "- In this notebook, Data Science Tools and Ecosystem are summarized.\n",
    "- Some of the popular languages that Data Scientists use are:\n",
    "- Some of the commonly used libraries used by Data Scientists include:"
   ]
  },
  {
   "cell_type": "markdown",
   "id": "fc271e1c",
   "metadata": {},
   "source": [
    "## Author\n",
    "Chitranshu Kumawat"
   ]
  },
  {
   "cell_type": "code",
   "execution_count": null,
   "id": "9b9b414d",
   "metadata": {},
   "outputs": [],
   "source": []
  }
 ],
 "metadata": {
  "kernelspec": {
   "display_name": "Python 3 (ipykernel)",
   "language": "python",
   "name": "python3"
  },
  "language_info": {
   "codemirror_mode": {
    "name": "ipython",
    "version": 3
   },
   "file_extension": ".py",
   "mimetype": "text/x-python",
   "name": "python",
   "nbconvert_exporter": "python",
   "pygments_lexer": "ipython3",
   "version": "3.11.5"
  }
 },
 "nbformat": 4,
 "nbformat_minor": 5
}
